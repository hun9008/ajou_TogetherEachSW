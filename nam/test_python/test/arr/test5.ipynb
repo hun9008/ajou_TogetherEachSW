{
 "cells": [
  {
   "cell_type": "markdown",
   "metadata": {},
   "source": [
    "행렬의 곱셈"
   ]
  },
  {
   "cell_type": "code",
   "execution_count": 9,
   "metadata": {},
   "outputs": [
    {
     "data": {
      "text/plain": [
       "[[15, 15], [15, 15], [15, 15]]"
      ]
     },
     "execution_count": 9,
     "metadata": {},
     "output_type": "execute_result"
    }
   ],
   "source": [
    "#if arr1 : (2,3), arr2 : (3,4)\n",
    "def solution(arr1, arr2):\n",
    "    answer = [[0] * len(arr2[0]) for _ in range(len(arr1))]\n",
    "    for i in range(len(arr1)): #2\n",
    "        for j in range(len(arr2[0])): #4\n",
    "            for k in range(len(arr1[0])): #3\n",
    "                answer[i][j] += arr1[i][k] * arr2[k][j]\n",
    "    return answer\n",
    "\n",
    "solution([[1, 4], [3, 2], [4, 1]], [[3, 3], [3, 3]])"
   ]
  },
  {
   "cell_type": "code",
   "execution_count": 10,
   "metadata": {},
   "outputs": [
    {
     "data": {
      "text/plain": [
       "[[15, 15], [15, 15], [15, 15]]"
      ]
     },
     "execution_count": 10,
     "metadata": {},
     "output_type": "execute_result"
    }
   ],
   "source": [
    "def solution(arr1, arr2):\n",
    "    r1, c1 = len(arr1), len(arr1[0])\n",
    "    r2, c2 = len(arr2), len(arr2[0])\n",
    "    \n",
    "    ret = [[0] * c2 for _ in range(r1)]\n",
    "    \n",
    "    for i in range(r1):\n",
    "        for j in range(c2):\n",
    "            for k in range(c1):\n",
    "                ret[i][j] += arr1[i][k] * arr2[k][j]\n",
    "    return ret\n",
    "\n",
    "solution([[1, 4], [3, 2], [4, 1]], [[3, 3], [3, 3]])"
   ]
  },
  {
   "cell_type": "code",
   "execution_count": 11,
   "metadata": {},
   "outputs": [],
   "source": [
    "# N을 행 또는 열의 길이라고 했을때\n",
    "# 시간복잡도는 O(N^3)이다."
   ]
  }
 ],
 "metadata": {
  "kernelspec": {
   "display_name": "base",
   "language": "python",
   "name": "python3"
  },
  "language_info": {
   "codemirror_mode": {
    "name": "ipython",
    "version": 3
   },
   "file_extension": ".py",
   "mimetype": "text/x-python",
   "name": "python",
   "nbconvert_exporter": "python",
   "pygments_lexer": "ipython3",
   "version": "3.9.13"
  }
 },
 "nbformat": 4,
 "nbformat_minor": 2
}
