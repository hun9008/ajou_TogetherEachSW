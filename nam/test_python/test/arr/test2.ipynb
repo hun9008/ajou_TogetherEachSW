{
 "cells": [
  {
   "cell_type": "markdown",
   "metadata": {},
   "source": [
    "배열 제어하기"
   ]
  },
  {
   "cell_type": "code",
   "execution_count": 1,
   "metadata": {},
   "outputs": [],
   "source": [
    "# 배열의 중복값을 제거하고 배열 데이터를 내림차순으로 정렬헤서 반환하는 solution 함수를 작성하시오.\n",
    "# 배열길이는 2이상 1000이하\n",
    "# 각 배열의 데이터 값은 -1000000이상 1000000이하"
   ]
  },
  {
   "cell_type": "code",
   "execution_count": 2,
   "metadata": {},
   "outputs": [
    {
     "name": "stdout",
     "output_type": "stream",
     "text": [
      "True\n"
     ]
    }
   ],
   "source": [
    "def solution(arr):\n",
    "    unique_arr = list(set(arr)) # 중복값 제거\n",
    "    unique_arr.sort(reverse=True) # 내림차순 정렬\n",
    "    return unique_arr\n",
    "\n",
    "print(solution([1, 5, 2, 6, 2, 3, 5]) == [6, 5, 3, 2, 1])"
   ]
  },
  {
   "cell_type": "code",
   "execution_count": null,
   "metadata": {},
   "outputs": [],
   "source": [
    "# 중복 원소 제거하는데 걸ㄹ리는 시간복잡도는 O(n)이다.\n",
    "# 정렬하는데 걸리는 시간복잡도는 O(nlogn)이다."
   ]
  }
 ],
 "metadata": {
  "kernelspec": {
   "display_name": "base",
   "language": "python",
   "name": "python3"
  },
  "language_info": {
   "codemirror_mode": {
    "name": "ipython",
    "version": 3
   },
   "file_extension": ".py",
   "mimetype": "text/x-python",
   "name": "python",
   "nbconvert_exporter": "python",
   "pygments_lexer": "ipython3",
   "version": "3.9.13"
  }
 },
 "nbformat": 4,
 "nbformat_minor": 2
}
