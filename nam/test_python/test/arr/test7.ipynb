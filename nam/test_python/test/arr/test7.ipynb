{
 "cells": [
  {
   "cell_type": "markdown",
   "metadata": {},
   "source": [
    " 방문 길이"
   ]
  },
  {
   "cell_type": "markdown",
   "metadata": {},
   "source": [
    "게임 캐릭터를 4가지 명령어를 통해 움직이려 합니다  \n",
    "이때, 우리는 게임 캐릭터가 지나간 길 중 캐릭터가 처음 걸어본 길의 길이를 구하려고 합니다. "
   ]
  },
  {
   "cell_type": "code",
   "execution_count": 1,
   "metadata": {},
   "outputs": [
    {
     "name": "stdout",
     "output_type": "stream",
     "text": [
      "7.0\n"
     ]
    }
   ],
   "source": [
    "# 범위를 벗어나는지 체크\n",
    "def check_in_boundary(x,y):\n",
    "    if x < 0 or x > 10 or y < 0 or y > 10:\n",
    "        return False\n",
    "    else:\n",
    "        return True\n",
    "\n",
    "# 좌표 이동\n",
    "def move_point(x,y, put):\n",
    "    if put == 'U':\n",
    "        y += 1\n",
    "    elif put == 'D':\n",
    "        y -= 1\n",
    "    elif put == 'L':\n",
    "        x -= 1\n",
    "    elif put == 'R':\n",
    "        x += 1\n",
    "    return x,y\n",
    "\n",
    "def solution(dirs):\n",
    "    x,y = 5,5\n",
    "    answer = 0\n",
    "    ans = set() # 중복을 제거하기 위해 set 사용\n",
    "    for i in dirs:\n",
    "        nx, ny = move_point(x,y, i)\n",
    "        if(check_in_boundary(nx,ny) == True): # 범위를 벗어나지 않는다면\n",
    "            ans.add((x,y,nx,ny)) # set에 추가\n",
    "            ans.add((nx,ny,x,y)) # set에 추가\n",
    "            x, y = nx, ny\n",
    "    \n",
    "    answer = len(ans) / 2\n",
    "    return answer\n",
    "\n",
    "print(solution(\"ULURRDLLU\")) # 7"
   ]
  },
  {
   "cell_type": "code",
   "execution_count": null,
   "metadata": {},
   "outputs": [],
   "source": [
    "# 문제의 핵심은 원점에서 출발해 최종 경로의 길이를 구하는 건데,\n",
    "# 좌표는 방향에 의해서만 제어된다는 점이다\n",
    "# 따라서 원점을 (0,0)에서 (5,5)로 바꿔 음수 좌표 문제를 해결해도 된다"
   ]
  }
 ],
 "metadata": {
  "kernelspec": {
   "display_name": "base",
   "language": "python",
   "name": "python3"
  },
  "language_info": {
   "codemirror_mode": {
    "name": "ipython",
    "version": 3
   },
   "file_extension": ".py",
   "mimetype": "text/x-python",
   "name": "python",
   "nbconvert_exporter": "python",
   "pygments_lexer": "ipython3",
   "version": "3.9.13"
  }
 },
 "nbformat": 4,
 "nbformat_minor": 2
}
