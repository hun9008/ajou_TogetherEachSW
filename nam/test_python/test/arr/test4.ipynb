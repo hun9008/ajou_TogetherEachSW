{
 "cells": [
  {
   "cell_type": "markdown",
   "metadata": {},
   "source": [
    "모의고사"
   ]
  },
  {
   "cell_type": "markdown",
   "metadata": {},
   "source": [
    "1번 수포자가 찍는 방식: 1, 2, 3, 4, 5, 1, 2, 3, 4, 5, ...  \n",
    "2번 수포자가 찍는 방식: 2, 1, 2, 3, 2, 4, 2, 5, 2, 1, 2, 3, 2, 4, 2, 5, ...  \n",
    "3번 수포자가 찍는 방식: 3, 3, 1, 1, 2, 2, 4, 4, 5, 5, 3, 3, 1, 1, 2, 2, 4, 4, 5, 5,"
   ]
  },
  {
   "cell_type": "markdown",
   "metadata": {},
   "source": [
    "번 문제부터 마지막 문제까지의 정답이 순서대로 들은 배열 answers가 주어졌을 때,   \n",
    "가장 많은 문제를 맞힌 사람이 누구인지 배열에 담아 return 하도록 solution 함수를 작성해주세요."
   ]
  },
  {
   "cell_type": "code",
   "execution_count": 3,
   "metadata": {},
   "outputs": [
    {
     "data": {
      "text/plain": [
       "[1, 2, 3]"
      ]
     },
     "execution_count": 3,
     "metadata": {},
     "output_type": "execute_result"
    }
   ],
   "source": [
    "supo1 = [1, 2, 3, 4, 5]\n",
    "supo2 = [2, 1, 2, 3, 2, 4, 2, 5]\n",
    "supo3 = [3, 3, 1, 1, 2, 2, 4, 4, 5, 5]\n",
    "def solution(answers):\n",
    "    answer = []\n",
    "    n = len(answers)\n",
    "    count = [0, 0, 0]\n",
    "    for i in range(n):\n",
    "        if answers[i] == supo1[i % 5]:\n",
    "            count[0] += 1\n",
    "        if answers[i] == supo2[i % 8]:\n",
    "            count[1] += 1\n",
    "        if answers[i] == supo3[i % 10]:\n",
    "            count[2] += 1\n",
    "    max_count = max(count)\n",
    "    for i in range(3):\n",
    "        if count[i] == max_count:\n",
    "            answer.append(i + 1)\n",
    "    return answer\n",
    "\n",
    "solution([1, 3, 2, 4, 2])"
   ]
  },
  {
   "cell_type": "code",
   "execution_count": 4,
   "metadata": {},
   "outputs": [],
   "source": [
    "def solution(answers):\n",
    "    patterns = [\n",
    "        [1, 2, 3, 4, 5],\n",
    "        [2, 1, 2, 3, 2, 4, 2, 5],\n",
    "        [3, 3, 1, 1, 2, 2, 4, 4, 5, 5]\n",
    "    ]\n",
    "    \n",
    "    scores = [0] * 3\n",
    "    for i, answer in enumerate(answers):\n",
    "        for j, pattern in enumerate(patterns):\n",
    "            if answer == pattern[i % len(pattern)]:\n",
    "                scores[j] += 1\n",
    "    max_score = max(scores)\n",
    "    \n",
    "    highest = []\n",
    "    for i, score in enumerate(scores):\n",
    "        if score == max_score:\n",
    "            highest.append(i + 1)"
   ]
  },
  {
   "cell_type": "code",
   "execution_count": 5,
   "metadata": {},
   "outputs": [],
   "source": [
    "# 각 수포자들의 패턴과 정답을 비교하는 부분은 O(n)의 시간복잡도를 가진다.\n",
    "# 이후 scores를 순회하면서 가장 높은 점수를 받은 수포자를 추가하는 연산은 O(1)\n",
    "# 최종 시간복잡도는 O(n)이다."
   ]
  }
 ],
 "metadata": {
  "kernelspec": {
   "display_name": "base",
   "language": "python",
   "name": "python3"
  },
  "language_info": {
   "codemirror_mode": {
    "name": "ipython",
    "version": 3
   },
   "file_extension": ".py",
   "mimetype": "text/x-python",
   "name": "python",
   "nbconvert_exporter": "python",
   "pygments_lexer": "ipython3",
   "version": "3.9.13"
  }
 },
 "nbformat": 4,
 "nbformat_minor": 2
}
