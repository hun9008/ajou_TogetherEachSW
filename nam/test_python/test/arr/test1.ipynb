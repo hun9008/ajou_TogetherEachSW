{
 "cells": [
  {
   "cell_type": "markdown",
   "metadata": {},
   "source": [
    "배열 정렬하기"
   ]
  },
  {
   "cell_type": "code",
   "execution_count": 1,
   "metadata": {},
   "outputs": [],
   "source": [
    "# 정수 배열을 정렬해서 반환하는 solution 함수를 작성하시오.\n",
    "# 제약 조건 : 정수 배열의 길이는 2이상 10^5이하, 배열의 각 원소는 -10^9이상 10^9이하의 정수"
   ]
  },
  {
   "cell_type": "code",
   "execution_count": 2,
   "metadata": {},
   "outputs": [
    {
     "name": "stdout",
     "output_type": "stream",
     "text": [
      "[1, 2, 3, 4, 5]\n"
     ]
    }
   ],
   "source": [
    "def solution(arr):\n",
    "    arr.sort()\n",
    "    return arr\n",
    "result = solution([5, 2, 3, 1, 4])\n",
    "print(result)"
   ]
  },
  {
   "cell_type": "code",
   "execution_count": 5,
   "metadata": {},
   "outputs": [
    {
     "name": "stdout",
     "output_type": "stream",
     "text": [
      "[1, 2, 3, 4, 5]\n"
     ]
    }
   ],
   "source": [
    "def solution(arr):\n",
    "    sorted_list = list(sorted(arr))\n",
    "    return sorted_list\n",
    "result = solution([5, 2, 3, 1, 4])\n",
    "print(result)"
   ]
  },
  {
   "cell_type": "code",
   "execution_count": 8,
   "metadata": {},
   "outputs": [
    {
     "name": "stdout",
     "output_type": "stream",
     "text": [
      "3.307887554168701\n",
      "0.0\n"
     ]
    }
   ],
   "source": [
    "# sort 메서드를 사용하지 않고 O(n^2) 정렬 알고리즘을 사용하면?\n",
    "import time\n",
    "\n",
    "def bubble_sort(arr):\n",
    "    n = len(arr)\n",
    "    for i in range(n):\n",
    "        for j in range(n - i - 1):\n",
    "            if arr[j] > arr[j + 1]:\n",
    "                arr[j], arr[j + 1] = arr[j + 1], arr[j]\n",
    "    return arr\n",
    "\n",
    "def do_sort(arr):\n",
    "    arr.sort\n",
    "    return arr\n",
    "\n",
    "def measure_time(func, arr):\n",
    "    start = time.time()\n",
    "    func(arr)\n",
    "    end = time.time()\n",
    "    return end - start\n",
    "\n",
    "test_arr = list(range(10000))\n",
    "print(measure_time(bubble_sort, test_arr))\n",
    "test_arr = list(range(10000))\n",
    "print(measure_time(do_sort, test_arr))\n",
    "\n",
    "# 첫번째 : 시간복잡도 O(n^2)인 버블 정렬 알고리즘을 사용했을 때\n",
    "# 두번째 : 시간복잡도 O(nlogn)인 sort 메서드를 사용했을 때\n",
    "# sort() 함수가 성능이 더 좋음"
   ]
  }
 ],
 "metadata": {
  "kernelspec": {
   "display_name": "base",
   "language": "python",
   "name": "python3"
  },
  "language_info": {
   "codemirror_mode": {
    "name": "ipython",
    "version": 3
   },
   "file_extension": ".py",
   "mimetype": "text/x-python",
   "name": "python",
   "nbconvert_exporter": "python",
   "pygments_lexer": "ipython3",
   "version": "3.9.13"
  }
 },
 "nbformat": 4,
 "nbformat_minor": 2
}
