{
 "cells": [
  {
   "cell_type": "markdown",
   "metadata": {},
   "source": [
    "두 개 뽑아서 더하기"
   ]
  },
  {
   "cell_type": "code",
   "execution_count": 1,
   "metadata": {},
   "outputs": [],
   "source": [
    "# 정수 배열 numbers에서 서로 다른 인덱스에 있는 2개의 수를 뽑아 더해 만들 수 있는 모든 수를 배열에 오름차순으로 담아 반환하는 함수를 작성하라.\n",
    "# numbers의 길이는 2 이상 100 이하이며, 모든 숫자는 0 이상 100 이하이다."
   ]
  },
  {
   "cell_type": "code",
   "execution_count": 2,
   "metadata": {},
   "outputs": [
    {
     "data": {
      "text/plain": [
       "[2, 5, 7, 9, 12]"
      ]
     },
     "execution_count": 2,
     "metadata": {},
     "output_type": "execute_result"
    }
   ],
   "source": [
    "def solution(numbers):\n",
    "    answers = []\n",
    "    n = len(numbers)\n",
    "    for i in range(n):\n",
    "        for j in range(i+1, n):\n",
    "            answers.append(numbers[i] + numbers[j])\n",
    "    return sorted(list(set(answers)))\n",
    "\n",
    "solution([5,0,2,7])"
   ]
  },
  {
   "cell_type": "code",
   "execution_count": 3,
   "metadata": {},
   "outputs": [],
   "source": [
    "# 모든 조합을 확인하는 과정에서의 시간복잡도는 O(n^2)이다.\n",
    "# 중복을 체크하는 과정에서의 시간복잡도는 O(n^2)이다.\n",
    "# 이를 정렬하는 과정에서의 시간복잡도는 O(n^2logn^2)이다."
   ]
  }
 ],
 "metadata": {
  "kernelspec": {
   "display_name": "base",
   "language": "python",
   "name": "python3"
  },
  "language_info": {
   "codemirror_mode": {
    "name": "ipython",
    "version": 3
   },
   "file_extension": ".py",
   "mimetype": "text/x-python",
   "name": "python",
   "nbconvert_exporter": "python",
   "pygments_lexer": "ipython3",
   "version": "3.9.13"
  }
 },
 "nbformat": 4,
 "nbformat_minor": 2
}
