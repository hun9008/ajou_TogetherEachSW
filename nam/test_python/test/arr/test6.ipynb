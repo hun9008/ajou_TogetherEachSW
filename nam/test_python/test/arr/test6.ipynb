{
 "cells": [
  {
   "cell_type": "markdown",
   "metadata": {},
   "source": [
    "실패율 계산   \n",
    "전체 스테이지의 개수 N, 게임을 이용하는 사용자가 현재 멈춰있는 스테이지의 번호가 담긴 배열 stages가 매개변수로 주어질 때,   \n",
    "실패율이 높은 스테이지부터 내림차순으로 스테이지의 번호가 담겨있는 배열을 return 하도록 solution 함수를 완성하라.\n"
   ]
  },
  {
   "cell_type": "code",
   "execution_count": 11,
   "metadata": {},
   "outputs": [
    {
     "data": {
      "text/plain": [
       "[3, 4, 2, 1, 5]"
      ]
     },
     "execution_count": 11,
     "metadata": {},
     "output_type": "execute_result"
    }
   ],
   "source": [
    "def solution(N, stages):\n",
    "    # 스테이지별 도전자 수\n",
    "    challenger = [0] * (N + 2)\n",
    "    for stage in stages:\n",
    "        challenger[stage] += 1\n",
    "    \n",
    "    # 스테이지별 실패자 수\n",
    "    fails = [0] * (N + 2)\n",
    "    total = len(stages)\n",
    "    \n",
    "    # 각 스테이지를 순회하며, 실패율 계산\n",
    "    for i in range(1, N + 1):\n",
    "        if challenger[i] == 0 or total == 0: # 도전자가 없거나, 실패자가 없다면 실패율 = 0\n",
    "            fails[i] = 0\n",
    "        else:\n",
    "            fails[i] = challenger[i] / total # 실패율 계산\n",
    "            total -= challenger[i]  # 도전자 수만큼 실패자 수를 감소시킴\n",
    "    \n",
    "    # 실패율이 높은 순으로 정렬     \n",
    "    result = sorted(range(1, N+1), key=lambda x : fails[x], reverse=True)\n",
    "    \n",
    "    return result\n",
    "\n",
    "solution(5, [2, 1, 2, 6, 2, 4, 3, 3])"
   ]
  },
  {
   "cell_type": "code",
   "execution_count": 12,
   "metadata": {},
   "outputs": [],
   "source": [
    "# 정렬 문제는 파이썬 제공 함수를 바로 사용해보는 것이 좋다.\n",
    "# N은 스테이지 개수, M은 stages의 길이\n",
    "# 도전자수를 계산 할때 시간복잡도는 O(M+N), 이후 스테이지 별로 실패율을 계산할 때 시간복잡도는 O(N)이다.\n",
    "# 실패율을 기준으로 정렬하는데 시간복잡도는 O(NlogN)이다. 따라서 총 시간복잡도는 O(M + NlogN)이다."
   ]
  }
 ],
 "metadata": {
  "kernelspec": {
   "display_name": "base",
   "language": "python",
   "name": "python3"
  },
  "language_info": {
   "codemirror_mode": {
    "name": "ipython",
    "version": 3
   },
   "file_extension": ".py",
   "mimetype": "text/x-python",
   "name": "python",
   "nbconvert_exporter": "python",
   "pygments_lexer": "ipython3",
   "version": "3.9.13"
  }
 },
 "nbformat": 4,
 "nbformat_minor": 2
}
